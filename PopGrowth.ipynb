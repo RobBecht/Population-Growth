{
 "cells": [
  {
   "attachments": {},
   "cell_type": "markdown",
   "metadata": {},
   "source": [
    "#### Testing the validity of two datasets through comparison. Datasets are from the same source with 10 years between collection."
   ]
  },
  {
   "cell_type": "code",
   "execution_count": 27,
   "metadata": {},
   "outputs": [],
   "source": [
    "import pandas as pd\n",
    "import matplotlib.pyplot as plt"
   ]
  },
  {
   "attachments": {},
   "cell_type": "markdown",
   "metadata": {},
   "source": [
    "#### Separate files being loaded independantly"
   ]
  },
  {
   "cell_type": "code",
   "execution_count": 28,
   "metadata": {},
   "outputs": [],
   "source": [
    "csv_one = pd.read_csv(\"population_by_zip_2000.csv\")"
   ]
  },
  {
   "cell_type": "code",
   "execution_count": 29,
   "metadata": {},
   "outputs": [],
   "source": [
    "csv_two = pd.read_csv(\"population_by_zip_2010.csv\")"
   ]
  },
  {
   "attachments": {},
   "cell_type": "markdown",
   "metadata": {},
   "source": [
    "#### previewing headers to verify files do not mirror each other"
   ]
  },
  {
   "cell_type": "code",
   "execution_count": 30,
   "metadata": {},
   "outputs": [
    {
     "data": {
      "text/html": [
       "<div>\n",
       "<style scoped>\n",
       "    .dataframe tbody tr th:only-of-type {\n",
       "        vertical-align: middle;\n",
       "    }\n",
       "\n",
       "    .dataframe tbody tr th {\n",
       "        vertical-align: top;\n",
       "    }\n",
       "\n",
       "    .dataframe thead th {\n",
       "        text-align: right;\n",
       "    }\n",
       "</style>\n",
       "<table border=\"1\" class=\"dataframe\">\n",
       "  <thead>\n",
       "    <tr style=\"text-align: right;\">\n",
       "      <th></th>\n",
       "      <th>minimum_age</th>\n",
       "      <th>maximum_age</th>\n",
       "      <th>gender</th>\n",
       "      <th>population</th>\n",
       "      <th>zipcode</th>\n",
       "      <th>geo_id</th>\n",
       "    </tr>\n",
       "  </thead>\n",
       "  <tbody>\n",
       "    <tr>\n",
       "      <th>0</th>\n",
       "      <td>10.0</td>\n",
       "      <td>14.0</td>\n",
       "      <td>female</td>\n",
       "      <td>75</td>\n",
       "      <td>39769</td>\n",
       "      <td>8600000US39769</td>\n",
       "    </tr>\n",
       "    <tr>\n",
       "      <th>1</th>\n",
       "      <td>85.0</td>\n",
       "      <td>NaN</td>\n",
       "      <td>female</td>\n",
       "      <td>130</td>\n",
       "      <td>44047</td>\n",
       "      <td>8600000US44047</td>\n",
       "    </tr>\n",
       "    <tr>\n",
       "      <th>2</th>\n",
       "      <td>30.0</td>\n",
       "      <td>34.0</td>\n",
       "      <td>female</td>\n",
       "      <td>11</td>\n",
       "      <td>42436</td>\n",
       "      <td>8600000US42436</td>\n",
       "    </tr>\n",
       "    <tr>\n",
       "      <th>3</th>\n",
       "      <td>22.0</td>\n",
       "      <td>24.0</td>\n",
       "      <td>male</td>\n",
       "      <td>22</td>\n",
       "      <td>99685</td>\n",
       "      <td>8600000US99685</td>\n",
       "    </tr>\n",
       "    <tr>\n",
       "      <th>4</th>\n",
       "      <td>67.0</td>\n",
       "      <td>69.0</td>\n",
       "      <td>male</td>\n",
       "      <td>69</td>\n",
       "      <td>04239</td>\n",
       "      <td>8600000US04239</td>\n",
       "    </tr>\n",
       "  </tbody>\n",
       "</table>\n",
       "</div>"
      ],
      "text/plain": [
       "   minimum_age  maximum_age  gender  population zipcode          geo_id\n",
       "0         10.0         14.0  female          75   39769  8600000US39769\n",
       "1         85.0          NaN  female         130   44047  8600000US44047\n",
       "2         30.0         34.0  female          11   42436  8600000US42436\n",
       "3         22.0         24.0    male          22   99685  8600000US99685\n",
       "4         67.0         69.0    male          69   04239  8600000US04239"
      ]
     },
     "execution_count": 30,
     "metadata": {},
     "output_type": "execute_result"
    }
   ],
   "source": [
    "csv_one.head()"
   ]
  },
  {
   "cell_type": "code",
   "execution_count": 31,
   "metadata": {},
   "outputs": [
    {
     "data": {
      "text/html": [
       "<div>\n",
       "<style scoped>\n",
       "    .dataframe tbody tr th:only-of-type {\n",
       "        vertical-align: middle;\n",
       "    }\n",
       "\n",
       "    .dataframe tbody tr th {\n",
       "        vertical-align: top;\n",
       "    }\n",
       "\n",
       "    .dataframe thead th {\n",
       "        text-align: right;\n",
       "    }\n",
       "</style>\n",
       "<table border=\"1\" class=\"dataframe\">\n",
       "  <thead>\n",
       "    <tr style=\"text-align: right;\">\n",
       "      <th></th>\n",
       "      <th>population</th>\n",
       "      <th>minimum_age</th>\n",
       "      <th>maximum_age</th>\n",
       "      <th>gender</th>\n",
       "      <th>zipcode</th>\n",
       "      <th>geo_id</th>\n",
       "    </tr>\n",
       "  </thead>\n",
       "  <tbody>\n",
       "    <tr>\n",
       "      <th>0</th>\n",
       "      <td>50</td>\n",
       "      <td>30.0</td>\n",
       "      <td>34.0</td>\n",
       "      <td>female</td>\n",
       "      <td>61747</td>\n",
       "      <td>8600000US61747</td>\n",
       "    </tr>\n",
       "    <tr>\n",
       "      <th>1</th>\n",
       "      <td>5</td>\n",
       "      <td>85.0</td>\n",
       "      <td>NaN</td>\n",
       "      <td>male</td>\n",
       "      <td>64120</td>\n",
       "      <td>8600000US64120</td>\n",
       "    </tr>\n",
       "    <tr>\n",
       "      <th>2</th>\n",
       "      <td>1389</td>\n",
       "      <td>30.0</td>\n",
       "      <td>34.0</td>\n",
       "      <td>male</td>\n",
       "      <td>95117</td>\n",
       "      <td>8600000US95117</td>\n",
       "    </tr>\n",
       "    <tr>\n",
       "      <th>3</th>\n",
       "      <td>231</td>\n",
       "      <td>60.0</td>\n",
       "      <td>61.0</td>\n",
       "      <td>female</td>\n",
       "      <td>74074</td>\n",
       "      <td>8600000US74074</td>\n",
       "    </tr>\n",
       "    <tr>\n",
       "      <th>4</th>\n",
       "      <td>56</td>\n",
       "      <td>0.0</td>\n",
       "      <td>4.0</td>\n",
       "      <td>female</td>\n",
       "      <td>58042</td>\n",
       "      <td>8600000US58042</td>\n",
       "    </tr>\n",
       "  </tbody>\n",
       "</table>\n",
       "</div>"
      ],
      "text/plain": [
       "   population  minimum_age  maximum_age  gender  zipcode          geo_id\n",
       "0          50         30.0         34.0  female    61747  8600000US61747\n",
       "1           5         85.0          NaN    male    64120  8600000US64120\n",
       "2        1389         30.0         34.0    male    95117  8600000US95117\n",
       "3         231         60.0         61.0  female    74074  8600000US74074\n",
       "4          56          0.0          4.0  female    58042  8600000US58042"
      ]
     },
     "execution_count": 31,
     "metadata": {},
     "output_type": "execute_result"
    }
   ],
   "source": [
    "csv_two.head()"
   ]
  },
  {
   "attachments": {},
   "cell_type": "markdown",
   "metadata": {},
   "source": [
    "#### Joining the two files into one before performing calculations"
   ]
  },
  {
   "cell_type": "code",
   "execution_count": 32,
   "metadata": {},
   "outputs": [
    {
     "data": {
      "text/html": [
       "<div>\n",
       "<style scoped>\n",
       "    .dataframe tbody tr th:only-of-type {\n",
       "        vertical-align: middle;\n",
       "    }\n",
       "\n",
       "    .dataframe tbody tr th {\n",
       "        vertical-align: top;\n",
       "    }\n",
       "\n",
       "    .dataframe thead th {\n",
       "        text-align: right;\n",
       "    }\n",
       "</style>\n",
       "<table border=\"1\" class=\"dataframe\">\n",
       "  <thead>\n",
       "    <tr style=\"text-align: right;\">\n",
       "      <th></th>\n",
       "      <th>minimum_age_x</th>\n",
       "      <th>maximum_age_x</th>\n",
       "      <th>gender_x</th>\n",
       "      <th>population_x</th>\n",
       "      <th>zipcode_x</th>\n",
       "      <th>geo_id</th>\n",
       "      <th>population_y</th>\n",
       "      <th>minimum_age_y</th>\n",
       "      <th>maximum_age_y</th>\n",
       "      <th>gender_y</th>\n",
       "      <th>zipcode_y</th>\n",
       "    </tr>\n",
       "  </thead>\n",
       "  <tbody>\n",
       "    <tr>\n",
       "      <th>0</th>\n",
       "      <td>50.0</td>\n",
       "      <td>54.0</td>\n",
       "      <td>male</td>\n",
       "      <td>51.0</td>\n",
       "      <td>61747</td>\n",
       "      <td>8600000US61747</td>\n",
       "      <td>50</td>\n",
       "      <td>30.0</td>\n",
       "      <td>34.0</td>\n",
       "      <td>female</td>\n",
       "      <td>61747</td>\n",
       "    </tr>\n",
       "    <tr>\n",
       "      <th>1</th>\n",
       "      <td>62.0</td>\n",
       "      <td>64.0</td>\n",
       "      <td>female</td>\n",
       "      <td>17.0</td>\n",
       "      <td>61747</td>\n",
       "      <td>8600000US61747</td>\n",
       "      <td>50</td>\n",
       "      <td>30.0</td>\n",
       "      <td>34.0</td>\n",
       "      <td>female</td>\n",
       "      <td>61747</td>\n",
       "    </tr>\n",
       "    <tr>\n",
       "      <th>2</th>\n",
       "      <td>NaN</td>\n",
       "      <td>NaN</td>\n",
       "      <td>NaN</td>\n",
       "      <td>1472.0</td>\n",
       "      <td>61747</td>\n",
       "      <td>8600000US61747</td>\n",
       "      <td>50</td>\n",
       "      <td>30.0</td>\n",
       "      <td>34.0</td>\n",
       "      <td>female</td>\n",
       "      <td>61747</td>\n",
       "    </tr>\n",
       "    <tr>\n",
       "      <th>3</th>\n",
       "      <td>50.0</td>\n",
       "      <td>54.0</td>\n",
       "      <td>female</td>\n",
       "      <td>45.0</td>\n",
       "      <td>61747</td>\n",
       "      <td>8600000US61747</td>\n",
       "      <td>50</td>\n",
       "      <td>30.0</td>\n",
       "      <td>34.0</td>\n",
       "      <td>female</td>\n",
       "      <td>61747</td>\n",
       "    </tr>\n",
       "    <tr>\n",
       "      <th>4</th>\n",
       "      <td>10.0</td>\n",
       "      <td>14.0</td>\n",
       "      <td>male</td>\n",
       "      <td>59.0</td>\n",
       "      <td>61747</td>\n",
       "      <td>8600000US61747</td>\n",
       "      <td>50</td>\n",
       "      <td>30.0</td>\n",
       "      <td>34.0</td>\n",
       "      <td>female</td>\n",
       "      <td>61747</td>\n",
       "    </tr>\n",
       "  </tbody>\n",
       "</table>\n",
       "</div>"
      ],
      "text/plain": [
       "   minimum_age_x  maximum_age_x gender_x  population_x zipcode_x  \\\n",
       "0           50.0           54.0     male          51.0     61747   \n",
       "1           62.0           64.0   female          17.0     61747   \n",
       "2            NaN            NaN      NaN        1472.0     61747   \n",
       "3           50.0           54.0   female          45.0     61747   \n",
       "4           10.0           14.0     male          59.0     61747   \n",
       "\n",
       "           geo_id  population_y  minimum_age_y  maximum_age_y gender_y  \\\n",
       "0  8600000US61747            50           30.0           34.0   female   \n",
       "1  8600000US61747            50           30.0           34.0   female   \n",
       "2  8600000US61747            50           30.0           34.0   female   \n",
       "3  8600000US61747            50           30.0           34.0   female   \n",
       "4  8600000US61747            50           30.0           34.0   female   \n",
       "\n",
       "   zipcode_y  \n",
       "0      61747  \n",
       "1      61747  \n",
       "2      61747  \n",
       "3      61747  \n",
       "4      61747  "
      ]
     },
     "execution_count": 32,
     "metadata": {},
     "output_type": "execute_result"
    }
   ],
   "source": [
    "merged_data = pd.merge(csv_one, csv_two, on='geo_id', how='right')\n",
    "merged_data.head()\n"
   ]
  },
  {
   "attachments": {},
   "cell_type": "markdown",
   "metadata": {},
   "source": [
    "#### organizing columns for visual aesthetics"
   ]
  },
  {
   "cell_type": "code",
   "execution_count": 33,
   "metadata": {},
   "outputs": [
    {
     "data": {
      "text/html": [
       "<div>\n",
       "<style scoped>\n",
       "    .dataframe tbody tr th:only-of-type {\n",
       "        vertical-align: middle;\n",
       "    }\n",
       "\n",
       "    .dataframe tbody tr th {\n",
       "        vertical-align: top;\n",
       "    }\n",
       "\n",
       "    .dataframe thead th {\n",
       "        text-align: right;\n",
       "    }\n",
       "</style>\n",
       "<table border=\"1\" class=\"dataframe\">\n",
       "  <thead>\n",
       "    <tr style=\"text-align: right;\">\n",
       "      <th></th>\n",
       "      <th>gender_x</th>\n",
       "      <th>gender_y</th>\n",
       "      <th>geo_id</th>\n",
       "      <th>maximum_age_x</th>\n",
       "      <th>maximum_age_y</th>\n",
       "      <th>minimum_age_x</th>\n",
       "      <th>minimum_age_y</th>\n",
       "      <th>population_x</th>\n",
       "      <th>population_y</th>\n",
       "      <th>zipcode_x</th>\n",
       "      <th>zipcode_y</th>\n",
       "    </tr>\n",
       "  </thead>\n",
       "  <tbody>\n",
       "    <tr>\n",
       "      <th>0</th>\n",
       "      <td>male</td>\n",
       "      <td>female</td>\n",
       "      <td>8600000US61747</td>\n",
       "      <td>54.0</td>\n",
       "      <td>34.0</td>\n",
       "      <td>50.0</td>\n",
       "      <td>30.0</td>\n",
       "      <td>51.0</td>\n",
       "      <td>50</td>\n",
       "      <td>61747</td>\n",
       "      <td>61747</td>\n",
       "    </tr>\n",
       "    <tr>\n",
       "      <th>1</th>\n",
       "      <td>female</td>\n",
       "      <td>female</td>\n",
       "      <td>8600000US61747</td>\n",
       "      <td>64.0</td>\n",
       "      <td>34.0</td>\n",
       "      <td>62.0</td>\n",
       "      <td>30.0</td>\n",
       "      <td>17.0</td>\n",
       "      <td>50</td>\n",
       "      <td>61747</td>\n",
       "      <td>61747</td>\n",
       "    </tr>\n",
       "    <tr>\n",
       "      <th>2</th>\n",
       "      <td>NaN</td>\n",
       "      <td>female</td>\n",
       "      <td>8600000US61747</td>\n",
       "      <td>NaN</td>\n",
       "      <td>34.0</td>\n",
       "      <td>NaN</td>\n",
       "      <td>30.0</td>\n",
       "      <td>1472.0</td>\n",
       "      <td>50</td>\n",
       "      <td>61747</td>\n",
       "      <td>61747</td>\n",
       "    </tr>\n",
       "    <tr>\n",
       "      <th>3</th>\n",
       "      <td>female</td>\n",
       "      <td>female</td>\n",
       "      <td>8600000US61747</td>\n",
       "      <td>54.0</td>\n",
       "      <td>34.0</td>\n",
       "      <td>50.0</td>\n",
       "      <td>30.0</td>\n",
       "      <td>45.0</td>\n",
       "      <td>50</td>\n",
       "      <td>61747</td>\n",
       "      <td>61747</td>\n",
       "    </tr>\n",
       "    <tr>\n",
       "      <th>4</th>\n",
       "      <td>male</td>\n",
       "      <td>female</td>\n",
       "      <td>8600000US61747</td>\n",
       "      <td>14.0</td>\n",
       "      <td>34.0</td>\n",
       "      <td>10.0</td>\n",
       "      <td>30.0</td>\n",
       "      <td>59.0</td>\n",
       "      <td>50</td>\n",
       "      <td>61747</td>\n",
       "      <td>61747</td>\n",
       "    </tr>\n",
       "  </tbody>\n",
       "</table>\n",
       "</div>"
      ],
      "text/plain": [
       "  gender_x gender_y          geo_id  maximum_age_x  maximum_age_y  \\\n",
       "0     male   female  8600000US61747           54.0           34.0   \n",
       "1   female   female  8600000US61747           64.0           34.0   \n",
       "2      NaN   female  8600000US61747            NaN           34.0   \n",
       "3   female   female  8600000US61747           54.0           34.0   \n",
       "4     male   female  8600000US61747           14.0           34.0   \n",
       "\n",
       "   minimum_age_x  minimum_age_y  population_x  population_y zipcode_x  \\\n",
       "0           50.0           30.0          51.0            50     61747   \n",
       "1           62.0           30.0          17.0            50     61747   \n",
       "2            NaN           30.0        1472.0            50     61747   \n",
       "3           50.0           30.0          45.0            50     61747   \n",
       "4           10.0           30.0          59.0            50     61747   \n",
       "\n",
       "   zipcode_y  \n",
       "0      61747  \n",
       "1      61747  \n",
       "2      61747  \n",
       "3      61747  \n",
       "4      61747  "
      ]
     },
     "execution_count": 33,
     "metadata": {},
     "output_type": "execute_result"
    }
   ],
   "source": [
    "merged_data = merged_data.reindex(sorted(merged_data.columns), axis=1)\n",
    "merged_data.head()"
   ]
  },
  {
   "attachments": {},
   "cell_type": "markdown",
   "metadata": {},
   "source": [
    "#### clean null values from population columns"
   ]
  },
  {
   "cell_type": "code",
   "execution_count": 49,
   "metadata": {},
   "outputs": [],
   "source": [
    "merged_data['population_x'] = merged_data['population_x'].fillna(0)\n",
    "merged_data['population_y'] = merged_data['population_y'].fillna(0)"
   ]
  },
  {
   "attachments": {},
   "cell_type": "markdown",
   "metadata": {},
   "source": [
    "#### sum population totals and assign to variable"
   ]
  },
  {
   "cell_type": "code",
   "execution_count": 50,
   "metadata": {},
   "outputs": [
    {
     "name": "stdout",
     "output_type": "stream",
     "text": [
      "41833409205.0\n",
      "44785690977\n"
     ]
    }
   ],
   "source": [
    "\n",
    "population_x_total = sum(merged_data.population_x)\n",
    "print(population_x_total)\n",
    "\n",
    "population_y_total = sum(merged_data.population_y)\n",
    "print(population_y_total)"
   ]
  },
  {
   "attachments": {},
   "cell_type": "markdown",
   "metadata": {},
   "source": [
    "#### Display visual comparison of population change from 2000-2010"
   ]
  },
  {
   "cell_type": "code",
   "execution_count": 35,
   "metadata": {},
   "outputs": [
    {
     "data": {
      "text/plain": [
       "<AxesSubplot: >"
      ]
     },
     "execution_count": 35,
     "metadata": {},
     "output_type": "execute_result"
    },
    {
     "data": {
      "image/png": "[encoded data removed]",
      "text/plain": [
       "<Figure size 640x480 with 1 Axes>"
      ]
     },
     "metadata": {},
     "output_type": "display_data"
    }
   ],
   "source": [
    "merged_data[merged_data.columns[7:9]].sum().plot.pie()"
   ]
  },
  {
   "cell_type": "code",
   "execution_count": 36,
   "metadata": {},
   "outputs": [
    {
     "data": {
      "image/png": "[encoded data removed]",
      "text/plain": [
       "<Figure size 640x480 with 1 Axes>"
      ]
     },
     "metadata": {},
     "output_type": "display_data"
    }
   ],
   "source": [
    "merged_data[merged_data.columns[7:9]].sum().plot.bar(rot=0, color='Blue')\n",
    "plt.tight_layout\n",
    "plt.show()"
   ]
  },
  {
   "attachments": {},
   "cell_type": "markdown",
   "metadata": {},
   "source": [
    "#### exploring average min/max ages"
   ]
  },
  {
   "cell_type": "code",
   "execution_count": 37,
   "metadata": {},
   "outputs": [
    {
     "name": "stdout",
     "output_type": "stream",
     "text": [
      "42.40909090909091\n",
      "42.40909090909091\n",
      "41.52173913043478\n",
      "41.52173913043478\n"
     ]
    }
   ],
   "source": [
    "avg_max_age_x = merged_data[\"maximum_age_x\"].mean()\n",
    "print(avg_max_age_x)\n",
    "\n",
    "avg_max_age_y = merged_data[\"maximum_age_y\"].mean()\n",
    "print(avg_max_age_y)\n",
    "\n",
    "avg_min_age_x = merged_data[\"minimum_age_x\"].mean()\n",
    "print(avg_min_age_x)\n",
    "\n",
    "avg_min_age_y = merged_data[\"minimum_age_y\"].mean()\n",
    "print(avg_min_age_y)"
   ]
  },
  {
   "cell_type": "code",
   "execution_count": 38,
   "metadata": {},
   "outputs": [
    {
     "data": {
      "image/png": "[encoded data removed]",
      "text/plain": [
       "<Figure size 1200x500 with 1 Axes>"
      ]
     },
     "metadata": {},
     "output_type": "display_data"
    }
   ],
   "source": [
    "\n",
    "mean_age = merged_data.groupby('maximum_age_x')[['minimum_age_x']].mean().sort_values('minimum_age_x')\n",
    "\n",
    "\n",
    "ax = mean_age.plot.bar(rot=0, figsize=(12, 5))\n",
    "ax.ticklabel_format(axis='y', style='plain')\n",
    "plt.tight_layout()\n",
    "plt.show()\n"
   ]
  },
  {
   "attachments": {},
   "cell_type": "markdown",
   "metadata": {},
   "source": [
    "#### Establish gender ratio per dataset. Values reported are which gender is most prevalent by reporting region."
   ]
  },
  {
   "cell_type": "code",
   "execution_count": 39,
   "metadata": {},
   "outputs": [
    {
     "name": "stdout",
     "output_type": "stream",
     "text": [
      "Gender X counts male :  36899352 , female :  36899352\n",
      "Gender Y counts male :  36941160 , female :  36941160\n"
     ]
    }
   ],
   "source": [
    "male_x = merged_data[\"gender_x\"].value_counts()[\"male\"]\n",
    "female_x = merged_data[\"gender_x\"].value_counts()[\"female\"]\n",
    "print(\"Gender X counts male : \", male_x, \", female : \", female_x)\n",
    "\n",
    "male_y = merged_data[\"gender_y\"].value_counts()[\"male\"]\n",
    "female_y = merged_data[\"gender_y\"].value_counts()[\"female\"]\n",
    "print(\"Gender Y counts male : \", male_y, \", female : \", female_y)"
   ]
  },
  {
   "cell_type": "code",
   "execution_count": 40,
   "metadata": {},
   "outputs": [
    {
     "data": {
      "image/png": "[encoded data removed]",
      "text/plain": [
       "<Figure size 640x480 with 1 Axes>"
      ]
     },
     "metadata": {},
     "output_type": "display_data"
    }
   ],
   "source": [
    "plt.scatter(x = male_x, y = male_y),\n",
    "plt.show()"
   ]
  },
  {
   "attachments": {},
   "cell_type": "markdown",
   "metadata": {},
   "source": [
    "#### verifying the gender result counts are accurate as this seems odd for them to be identical"
   ]
  },
  {
   "cell_type": "code",
   "execution_count": 41,
   "metadata": {},
   "outputs": [
    {
     "name": "stdout",
     "output_type": "stream",
     "text": [
      "36899352\n",
      "36899352\n"
     ]
    }
   ],
   "source": [
    "print(merged_data['gender_x'].value_counts()[\"male\"])\n",
    "print(merged_data['gender_x'].value_counts()[\"female\"])"
   ]
  },
  {
   "cell_type": "code",
   "execution_count": 42,
   "metadata": {},
   "outputs": [
    {
     "data": {
      "text/plain": [
       "36899352"
      ]
     },
     "execution_count": 42,
     "metadata": {},
     "output_type": "execute_result"
    }
   ],
   "source": [
    "count_male = merged_data['gender_x']==\"male\"\n",
    "count_male.sum()\n",
    "count_female = merged_data['gender_x']==\"female\"\n",
    "count_female.sum()"
   ]
  },
  {
   "cell_type": "code",
   "execution_count": 43,
   "metadata": {},
   "outputs": [
    {
     "data": {
      "text/plain": [
       "<AxesSubplot: >"
      ]
     },
     "execution_count": 43,
     "metadata": {},
     "output_type": "execute_result"
    },
    {
     "data": {
      "image/png": "[encoded data removed]",
      "text/plain": [
       "<Figure size 640x480 with 1 Axes>"
      ]
     },
     "metadata": {},
     "output_type": "display_data"
    }
   ],
   "source": [
    "merged_data.groupby(['gender_x']).size().plot.pie()\n"
   ]
  },
  {
   "cell_type": "code",
   "execution_count": 44,
   "metadata": {},
   "outputs": [
    {
     "data": {
      "text/plain": [
       "<AxesSubplot: >"
      ]
     },
     "execution_count": 44,
     "metadata": {},
     "output_type": "execute_result"
    },
    {
     "data": {
      "image/png": "[encoded data removed]",
      "text/plain": [
       "<Figure size 640x480 with 1 Axes>"
      ]
     },
     "metadata": {},
     "output_type": "display_data"
    }
   ],
   "source": [
    "merged_data.groupby(['gender_y']).size().plot.pie()"
   ]
  },
  {
   "attachments": {},
   "cell_type": "markdown",
   "metadata": {},
   "source": [
    "#### Conclusion based on findings. There is a significant probability that the second dataset is a copy of the first with added/updated values in the \"population\" columns only."
   ]
  }
 ],
 "metadata": {
  "kernelspec": {
   "display_name": "Python 3",
   "language": "python",
   "name": "python3"
  },
  "language_info": {
   "codemirror_mode": {
    "name": "ipython",
    "version": 3
   },
   "file_extension": ".py",
   "mimetype": "text/x-python",
   "name": "python",
   "nbconvert_exporter": "python",
   "pygments_lexer": "ipython3",
   "version": "3.10.10"
  },
  "orig_nbformat": 4
 },
 "nbformat": 4,
 "nbformat_minor": 2
}
